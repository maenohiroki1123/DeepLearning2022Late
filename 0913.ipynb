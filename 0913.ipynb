{
  "nbformat": 4,
  "nbformat_minor": 0,
  "metadata": {
    "colab": {
      "provenance": [],
      "authorship_tag": "ABX9TyNGW0NBSsHx3ex3WBqnMzhZ",
      "include_colab_link": true
    },
    "kernelspec": {
      "name": "python3",
      "display_name": "Python 3"
    },
    "language_info": {
      "name": "python"
    }
  },
  "cells": [
    {
      "cell_type": "markdown",
      "metadata": {
        "id": "view-in-github",
        "colab_type": "text"
      },
      "source": [
        "<a href=\"https://colab.research.google.com/github/maenohiroki1123/DeepLearning2022Late/blob/main/0913.ipynb\" target=\"_parent\"><img src=\"https://colab.research.google.com/assets/colab-badge.svg\" alt=\"Open In Colab\"/></a>"
      ]
    },
    {
      "cell_type": "markdown",
      "source": [
        "#リスト型とタプル型\n",
        "##リストとタプル"
      ],
      "metadata": {
        "id": "qdx628aDUn3N"
      }
    },
    {
      "cell_type": "code",
      "execution_count": 4,
      "metadata": {
        "colab": {
          "base_uri": "https://localhost:8080/"
        },
        "id": "9BzKE0veUGs6",
        "outputId": "b3cf0116-e02a-4b1f-e99e-86cb6ab02865"
      },
      "outputs": [
        {
          "output_type": "stream",
          "name": "stdout",
          "text": [
            "['アップル', 'ペン', 'ペン', 'パイナップル']\n",
            "ペン ペン\n"
          ]
        }
      ],
      "source": [
        "# リスト\n",
        "list =['アップル','ペン','ペン', 'パイナップル']\n",
        "print(list)\n",
        "print(list[1],list[2])"
      ]
    },
    {
      "cell_type": "code",
      "source": [
        "tuple=('アップル','ペン','ペン', 'パイナップル')\n",
        "print(tuple)\n",
        "print(tuple[1],tuple[2])"
      ],
      "metadata": {
        "colab": {
          "base_uri": "https://localhost:8080/"
        },
        "id": "GaMmmdKpU3qI",
        "outputId": "6540eaf2-358d-44ed-d89b-1c812b419b97"
      },
      "execution_count": 5,
      "outputs": [
        {
          "output_type": "stream",
          "name": "stdout",
          "text": [
            "('アップル', 'ペン', 'ペン', 'パイナップル')\n",
            "ペン ペン\n"
          ]
        }
      ]
    },
    {
      "cell_type": "markdown",
      "source": [
        "###構成を変更できるのはリスト\n",
        "###構成を変更できない(固定)のはタプル"
      ],
      "metadata": {
        "id": "NZgFJ_jaXw3o"
      }
    },
    {
      "cell_type": "code",
      "source": [
        "#　リストの構成\n",
        "print(list)\n",
        "list.append(100)#　文字列データのリストにあえて数値を追加\n",
        "print(list)\n",
        "del list[2]# リストの三番目を削除\n",
        "print(list)\n",
        "list[3]='ペン'#　数値100をペンに更新\n",
        "print(list)\n",
        "list.insert(2,'ペン')\n",
        "print(list)"
      ],
      "metadata": {
        "colab": {
          "base_uri": "https://localhost:8080/"
        },
        "id": "WoE6_b2eXfO8",
        "outputId": "ddf77fac-d528-4898-9bc2-8389e2bdaf16"
      },
      "execution_count": 6,
      "outputs": [
        {
          "output_type": "stream",
          "name": "stdout",
          "text": [
            "['アップル', 'ペン', 'ペン', 'パイナップル']\n",
            "['アップル', 'ペン', 'ペン', 'パイナップル', 100]\n",
            "['アップル', 'ペン', 'パイナップル', 100]\n",
            "['アップル', 'ペン', 'パイナップル', 'ペン']\n",
            "['アップル', 'ペン', 'ペン', 'パイナップル', 'ペン']\n"
          ]
        }
      ]
    },
    {
      "cell_type": "markdown",
      "source": [
        "### リストやタプルの長さの取得"
      ],
      "metadata": {
        "id": "YYKe57RgbMtr"
      }
    },
    {
      "cell_type": "code",
      "source": [
        "print(list)\n",
        "print(len(list))"
      ],
      "metadata": {
        "colab": {
          "base_uri": "https://localhost:8080/"
        },
        "id": "9dEgdxGhX4vq",
        "outputId": "abd340f8-73a7-4845-f00c-4f63a4c7fb11"
      },
      "execution_count": 7,
      "outputs": [
        {
          "output_type": "stream",
          "name": "stdout",
          "text": [
            "['アップル', 'ペン', 'ペン', 'パイナップル', 'ペン']\n",
            "5\n"
          ]
        }
      ]
    },
    {
      "cell_type": "markdown",
      "source": [
        "# スライス\n",
        "### データを抽出する(データを一部分とりだす)"
      ],
      "metadata": {
        "id": "0T6LsghecBC7"
      }
    },
    {
      "cell_type": "code",
      "source": [
        "print(list)\n",
        "print(list[1])# 何番目の要素の指定の仕方と同じ考え方\n",
        "print(list[1:3])# 1番目から3番目までの藩士を指定して抽出=スライス\n",
        "print(list[1:])# 1番目から最後まで抽出(スライス)"
      ],
      "metadata": {
        "colab": {
          "base_uri": "https://localhost:8080/"
        },
        "id": "HpmsC1mwbcPf",
        "outputId": "c9341fb2-feee-4bb5-bacb-86d5594318ba"
      },
      "execution_count": 8,
      "outputs": [
        {
          "output_type": "stream",
          "name": "stdout",
          "text": [
            "['アップル', 'ペン', 'ペン', 'パイナップル', 'ペン']\n",
            "ペン\n",
            "['ペン', 'ペン']\n",
            "['ペン', 'ペン', 'パイナップル', 'ペン']\n"
          ]
        }
      ]
    },
    {
      "cell_type": "markdown",
      "source": [
        "#SET型(集合型)\n",
        "### 集合型SETは、順番を持たない。重複したデータを持たない"
      ],
      "metadata": {
        "id": "OezmzMakemmM"
      }
    },
    {
      "cell_type": "code",
      "source": [
        "#　uniqという名前のset型変数を作る\n",
        "uniq=set(['アップル','ペン','ペン', 'パイナップル'])\n",
        "print(uniq)# リストの時点ではペンが重複できていたが、set型になって重複が消える"
      ],
      "metadata": {
        "colab": {
          "base_uri": "https://localhost:8080/"
        },
        "id": "Wc7IG86_cLPu",
        "outputId": "1e2d204a-945b-4ba7-e208-4d5b266bf3b7"
      },
      "execution_count": 9,
      "outputs": [
        {
          "output_type": "stream",
          "name": "stdout",
          "text": [
            "{'アップル', 'ペン', 'パイナップル'}\n"
          ]
        }
      ]
    },
    {
      "cell_type": "markdown",
      "source": [
        "# 集合型の追加変更削除"
      ],
      "metadata": {
        "id": "1lTIWC2KhF01"
      }
    },
    {
      "cell_type": "code",
      "source": [
        "print(uniq)\n",
        "uniq.add('バナナ')# 追加\n",
        "uniq.remove('ペン')#　削除\n",
        "print(uniq)"
      ],
      "metadata": {
        "colab": {
          "base_uri": "https://localhost:8080/"
        },
        "id": "DIEoI50shNb-",
        "outputId": "97ba836d-91ef-48a7-e4e5-f903c2ea5f80"
      },
      "execution_count": 10,
      "outputs": [
        {
          "output_type": "stream",
          "name": "stdout",
          "text": [
            "{'アップル', 'ペン', 'パイナップル'}\n",
            "{'バナナ', 'アップル', 'パイナップル'}\n"
          ]
        }
      ]
    },
    {
      "cell_type": "markdown",
      "source": [
        "# 集合演算\n",
        "### 包含、積、和、差分"
      ],
      "metadata": {
        "id": "7u80G5uJibG4"
      }
    },
    {
      "cell_type": "code",
      "source": [
        "#uniqの値を再定義\n",
        "uniq=set(['アップル','ペン','ペン', 'パイナップル'])\n",
        "a= set(['アップル','ペン'])\n",
        "b=set(['ペン','パイナップル'])\n",
        "print(uniq)\n",
        "print(a)\n",
        "print(b)\n",
        "a.issubset(uniq)\n",
        "'ペン' in a"
      ],
      "metadata": {
        "colab": {
          "base_uri": "https://localhost:8080/"
        },
        "id": "-EuihZo5im2k",
        "outputId": "566a56cb-1088-478d-e587-3c1044f1f510"
      },
      "execution_count": 1,
      "outputs": [
        {
          "output_type": "stream",
          "name": "stdout",
          "text": [
            "{'ペン', 'パイナップル', 'アップル'}\n",
            "{'ペン', 'アップル'}\n",
            "{'ペン', 'パイナップル'}\n"
          ]
        },
        {
          "output_type": "execute_result",
          "data": {
            "text/plain": [
              "True"
            ]
          },
          "metadata": {},
          "execution_count": 1
        }
      ]
    },
    {
      "cell_type": "code",
      "source": [
        "# ある集合と別の集合の共通部分の要素(intersection)\n",
        "# 集合 a と 集合　b の共通集合\n",
        "print(a)\n",
        "print(b)\n",
        "print(a.intersection(b))# 集合aのデータで集合bに共通のもの\n",
        "# 集合 a と 集合 b の結合：和集合(setなので重複は削除される)\n",
        "a.union(b)# 集合aと集合bの集まり\n",
        "# 集合aと集合bの差集合(aのみに含まれる集合)\n",
        "a.difference(b)# aからbを取り除いた残り(差分：difference)"
      ],
      "metadata": {
        "colab": {
          "base_uri": "https://localhost:8080/"
        },
        "id": "DnWMOFm9jFBA",
        "outputId": "23cb52fc-ecd1-4839-b651-4c5ee0c181a3"
      },
      "execution_count": 4,
      "outputs": [
        {
          "output_type": "stream",
          "name": "stdout",
          "text": [
            "{'ペン', 'アップル'}\n",
            "{'ペン', 'パイナップル'}\n",
            "{'ペン'}\n"
          ]
        },
        {
          "output_type": "execute_result",
          "data": {
            "text/plain": [
              "{'アップル'}"
            ]
          },
          "metadata": {},
          "execution_count": 4
        }
      ]
    },
    {
      "cell_type": "code",
      "source": [],
      "metadata": {
        "id": "JsvlDNeirdhe"
      },
      "execution_count": null,
      "outputs": []
    }
  ]
}