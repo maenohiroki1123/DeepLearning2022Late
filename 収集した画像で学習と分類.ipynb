{
  "nbformat": 4,
  "nbformat_minor": 0,
  "metadata": {
    "colab": {
      "provenance": [],
      "authorship_tag": "ABX9TyMDsQFQHAdIsVlJxe2+p+UW",
      "include_colab_link": true
    },
    "kernelspec": {
      "name": "python3",
      "display_name": "Python 3"
    },
    "language_info": {
      "name": "python"
    },
    "accelerator": "GPU",
    "gpuClass": "standard"
  },
  "cells": [
    {
      "cell_type": "markdown",
      "metadata": {
        "id": "view-in-github",
        "colab_type": "text"
      },
      "source": [
        "<a href=\"https://colab.research.google.com/github/maenohiroki1123/DeepLearning2022Late/blob/main/%E5%8F%8E%E9%9B%86%E3%81%97%E3%81%9F%E7%94%BB%E5%83%8F%E3%81%A7%E5%AD%A6%E7%BF%92%E3%81%A8%E5%88%86%E9%A1%9E.ipynb\" target=\"_parent\"><img src=\"https://colab.research.google.com/assets/colab-badge.svg\" alt=\"Open In Colab\"/></a>"
      ]
    },
    {
      "cell_type": "markdown",
      "source": [
        "## フォルダを準備する"
      ],
      "metadata": {
        "id": "0DO3eg9YWNqQ"
      }
    },
    {
      "cell_type": "code",
      "execution_count": 7,
      "metadata": {
        "id": "87WndexAVP1X"
      },
      "outputs": [],
      "source": [
        "import os\n",
        "os.makedirs('sample',exist_ok=True) #分類対象のフォルダを作成\n",
        "os.makedirs('output/dog/sample',exist_ok=True)#犬と判定された時の置き場\n",
        "os.makedirs('output/cat/sample',exist_ok=True)#犬と判定された時の置き場\n",
        "os.makedirs('img/deep_learning/dog',exist_ok=True)#犬の学習用の収集画像\n",
        "os.makedirs('img/deep_learning/cat',exist_ok=True)#猫の学習用の収集画像"
      ]
    },
    {
      "cell_type": "markdown",
      "source": [
        "## 必要なライブラリをimport"
      ],
      "metadata": {
        "id": "Xbbs-aadYfHp"
      }
    },
    {
      "cell_type": "code",
      "source": [
        "import cv2\n",
        "import numpy as np\n",
        "import glob as glob\n",
        "from sklearn.model_selection import train_test_split\n",
        "from keras.utils import np_utils"
      ],
      "metadata": {
        "id": "pMd7rSfvXkqW"
      },
      "execution_count": 8,
      "outputs": []
    },
    {
      "cell_type": "markdown",
      "source": [
        "##分類(クラス)の名前をフォルダ名から引用する"
      ],
      "metadata": {
        "id": "aJ3NX-mDZdtO"
      }
    },
    {
      "cell_type": "code",
      "source": [
        "path=\"img/deep_learning\" # dogとcatフォルダがある場所\n",
        "folders = os.listdir(path)\n",
        "# 2つのパスからフォルダ名を抜き出す\n",
        "classes=[f for f in folders if os.path.isdir(os.path.join(path,f))]\n",
        "print(classes)\n",
        "n_classes=len(classes)\n",
        "print(n_classes)"
      ],
      "metadata": {
        "colab": {
          "base_uri": "https://localhost:8080/"
        },
        "id": "d004-GPWZJe2",
        "outputId": "2f3a71db-d3c5-4cb1-83f1-5f4cb4ce8131"
      },
      "execution_count": 9,
      "outputs": [
        {
          "output_type": "stream",
          "name": "stdout",
          "text": [
            "['dog', 'cat']\n",
            "2\n"
          ]
        }
      ]
    },
    {
      "cell_type": "markdown",
      "source": [
        "## 画像を読み込みリサイズ、整形する"
      ],
      "metadata": {
        "id": "b2Kh8OLm9XRd"
      }
    },
    {
      "cell_type": "code",
      "source": [
        "# 画像とラベルのための配列\n",
        "X=[] #画像(学習データ用の配列)\n",
        "Y=[] #ラベル(正解用の配列)\n",
        "\n",
        "# 画像を読み込みつつリサイズする\n",
        "for label,class_name in enumerate(classes):\n",
        "  files=glob.glob(path+\"/\"+class_name+\"/*jpg\")\n",
        "  for file in files:\n",
        "    img=cv2.imread(file)\n",
        "    img=cv2.resize(img,dsize=(224,224))\n",
        "    X.append(img)\n",
        "    Y.append(label)\n",
        "  # 内部ループ終わり\n",
        "# 外部ループ"
      ],
      "metadata": {
        "id": "zMsf9ke0aqK4"
      },
      "execution_count": 10,
      "outputs": []
    },
    {
      "cell_type": "markdown",
      "source": [
        "## 0～255のビットデータ値を学習のために0～1に変換(正規化)学習制度を上げる"
      ],
      "metadata": {
        "id": "U1ZNn9mLE-SU"
      }
    },
    {
      "cell_type": "code",
      "source": [
        "X=np.array(X)# 配列XをNumpy配列に変換\n",
        "X=X.astype('float32')# 小数型に変換\n",
        "X /=255.0\n",
        "# ラベルもnumpyの配列に変換\n",
        "Y=np.array(Y)\n",
        "Y=np_utils.to_categorical(Y,n_classes)\n"
      ],
      "metadata": {
        "id": "52xRbSb5EQBD"
      },
      "execution_count": 11,
      "outputs": []
    },
    {
      "cell_type": "code",
      "source": [
        "# 学習データ8割、テスト検証用が2割にわける\n",
        "X_train,X_test,Y_train,Y_test=train_test_split(X,Y,test_size=0.2)\n",
        "# 学習データ8割(学習問題データ)\n",
        "print(X_train.shape)\n",
        "# テストデータ2割(学習問題データ)\n",
        "print(X_test.shape)\n",
        "# 学習データ8割(正解ラベル)\n",
        "print(Y_train.shape)\n",
        "# テストデータ2割(正解ラベル)\n",
        "print(Y_test.shape)"
      ],
      "metadata": {
        "colab": {
          "base_uri": "https://localhost:8080/"
        },
        "id": "HpLrnBrIGH_9",
        "outputId": "8a8657da-7d88-4ddc-e55f-12f7f77da58b"
      },
      "execution_count": 12,
      "outputs": [
        {
          "output_type": "stream",
          "name": "stdout",
          "text": [
            "(120, 224, 224, 3)\n",
            "(31, 224, 224, 3)\n",
            "(120, 2)\n",
            "(31, 2)\n"
          ]
        }
      ]
    },
    {
      "cell_type": "markdown",
      "source": [
        "## 準備したデータを学習させていく"
      ],
      "metadata": {
        "id": "vYN7gic7LeOR"
      }
    },
    {
      "cell_type": "markdown",
      "source": [
        "### 学習に必要なライブラリをimport"
      ],
      "metadata": {
        "id": "0NcqpRAWLkpH"
      }
    },
    {
      "cell_type": "code",
      "source": [
        "from keras.applications.vgg16 import VGG16\n",
        "from keras.models import Sequential\n",
        "from keras.models import model_from_json\n",
        "from keras.models import Model\n",
        "from keras.layers import Input, Activation,Dense,Flatten,Dense,Dropout\n",
        "from keras.optimizers import Adam"
      ],
      "metadata": {
        "id": "IGF3wwLgIVPD"
      },
      "execution_count": 13,
      "outputs": []
    },
    {
      "cell_type": "markdown",
      "source": [
        "## モデルのVGG16をアレンジしていく"
      ],
      "metadata": {
        "id": "lptVh131S0sW"
      }
    },
    {
      "cell_type": "code",
      "source": [
        "#VGG16 入力層を用意する\n",
        "input_tensor=Input(shape=(224,224,3))\n",
        "# VGG16のインスタンスを作る(最後のsoftmaxの1000層を無効にして省く)\n",
        "base_model=VGG16(weights='imagenet',input_tensor=input_tensor,include_top=False)\n"
      ],
      "metadata": {
        "id": "xveT1q-sMs1T",
        "colab": {
          "base_uri": "https://localhost:8080/"
        },
        "outputId": "3e4ad5ef-ae35-4dde-b1c0-39b7722e5de2"
      },
      "execution_count": 14,
      "outputs": [
        {
          "output_type": "stream",
          "name": "stdout",
          "text": [
            "Downloading data from https://storage.googleapis.com/tensorflow/keras-applications/vgg16/vgg16_weights_tf_dim_ordering_tf_kernels_notop.h5\n",
            "58889256/58889256 [==============================] - 3s 0us/step\n"
          ]
        }
      ]
    },
    {
      "cell_type": "markdown",
      "source": [
        "## 1000分類のsoftmaxを外した代わりに、2つに分類あうるsoftmax層を追加する"
      ],
      "metadata": {
        "id": "s1g8UrfCWhCR"
      }
    },
    {
      "cell_type": "code",
      "source": [
        "# 追加する層の作成\n",
        "top_model=Sequential()\n",
        "top_model.add(Flatten(input_shape=base_model.output_shape[1:]))\n",
        "top_model.add(Dense(n_classes,activation='softmax'))"
      ],
      "metadata": {
        "id": "1xiZs_qUWfV2"
      },
      "execution_count": 15,
      "outputs": []
    },
    {
      "cell_type": "code",
      "source": [
        "## 最後のSOFTMAXを外したモデル(basemodel)と追加用の2つに分類するSOFT MAX層のモデル(top_model)をつなげる"
      ],
      "metadata": {
        "id": "dzfCtzzHYVCj"
      },
      "execution_count": 16,
      "outputs": []
    },
    {
      "cell_type": "code",
      "source": [
        "model=Model(inputs=base_model.input,outputs=top_model(base_model.output))"
      ],
      "metadata": {
        "id": "Tk6eMRYHaui8"
      },
      "execution_count": 17,
      "outputs": []
    },
    {
      "cell_type": "markdown",
      "source": [
        "## 時間短縮のために、15層までを外す"
      ],
      "metadata": {
        "id": "TPo5-947bfSB"
      }
    },
    {
      "cell_type": "code",
      "source": [
        "for layer in model.layers[:15]:\n",
        "  layer.trainable=False# 15層までは学習しない\n",
        "#ループ終わり\n",
        "print('# layers=',len(model.layers))# モデル層の数を表示"
      ],
      "metadata": {
        "colab": {
          "base_uri": "https://localhost:8080/"
        },
        "id": "ePfarzOTbdDM",
        "outputId": "0a001b67-f98e-4468-9a13-40cf6b3ecd9f"
      },
      "execution_count": 18,
      "outputs": [
        {
          "output_type": "stream",
          "name": "stdout",
          "text": [
            "# layers= 20\n"
          ]
        }
      ]
    },
    {
      "cell_type": "markdown",
      "source": [
        "### 学習モデルをコンパイルする"
      ],
      "metadata": {
        "id": "HFtIJODIccmV"
      }
    },
    {
      "cell_type": "code",
      "source": [
        "# 損失はクロスエントロピー法で算出、最適化はADAM、指標は精度でみる\n",
        "model.compile(loss='categorical_crossentropy',\n",
        "              optimizer='adam',metrics=['accuracy'])"
      ],
      "metadata": {
        "id": "zfko214kcULC"
      },
      "execution_count": 19,
      "outputs": []
    },
    {
      "cell_type": "markdown",
      "source": [
        "### コンパイルしたモデルを表示"
      ],
      "metadata": {
        "id": "EKee91nqeWwi"
      }
    },
    {
      "cell_type": "code",
      "source": [
        "model.summary()"
      ],
      "metadata": {
        "colab": {
          "base_uri": "https://localhost:8080/"
        },
        "id": "2O-L2RpLeWA6",
        "outputId": "70c7dfd3-dfe9-4b56-e172-0129285948d5"
      },
      "execution_count": 20,
      "outputs": [
        {
          "output_type": "stream",
          "name": "stdout",
          "text": [
            "Model: \"model\"\n",
            "_________________________________________________________________\n",
            " Layer (type)                Output Shape              Param #   \n",
            "=================================================================\n",
            " input_1 (InputLayer)        [(None, 224, 224, 3)]     0         \n",
            "                                                                 \n",
            " block1_conv1 (Conv2D)       (None, 224, 224, 64)      1792      \n",
            "                                                                 \n",
            " block1_conv2 (Conv2D)       (None, 224, 224, 64)      36928     \n",
            "                                                                 \n",
            " block1_pool (MaxPooling2D)  (None, 112, 112, 64)      0         \n",
            "                                                                 \n",
            " block2_conv1 (Conv2D)       (None, 112, 112, 128)     73856     \n",
            "                                                                 \n",
            " block2_conv2 (Conv2D)       (None, 112, 112, 128)     147584    \n",
            "                                                                 \n",
            " block2_pool (MaxPooling2D)  (None, 56, 56, 128)       0         \n",
            "                                                                 \n",
            " block3_conv1 (Conv2D)       (None, 56, 56, 256)       295168    \n",
            "                                                                 \n",
            " block3_conv2 (Conv2D)       (None, 56, 56, 256)       590080    \n",
            "                                                                 \n",
            " block3_conv3 (Conv2D)       (None, 56, 56, 256)       590080    \n",
            "                                                                 \n",
            " block3_pool (MaxPooling2D)  (None, 28, 28, 256)       0         \n",
            "                                                                 \n",
            " block4_conv1 (Conv2D)       (None, 28, 28, 512)       1180160   \n",
            "                                                                 \n",
            " block4_conv2 (Conv2D)       (None, 28, 28, 512)       2359808   \n",
            "                                                                 \n",
            " block4_conv3 (Conv2D)       (None, 28, 28, 512)       2359808   \n",
            "                                                                 \n",
            " block4_pool (MaxPooling2D)  (None, 14, 14, 512)       0         \n",
            "                                                                 \n",
            " block5_conv1 (Conv2D)       (None, 14, 14, 512)       2359808   \n",
            "                                                                 \n",
            " block5_conv2 (Conv2D)       (None, 14, 14, 512)       2359808   \n",
            "                                                                 \n",
            " block5_conv3 (Conv2D)       (None, 14, 14, 512)       2359808   \n",
            "                                                                 \n",
            " block5_pool (MaxPooling2D)  (None, 7, 7, 512)         0         \n",
            "                                                                 \n",
            " sequential (Sequential)     (None, 2)                 50178     \n",
            "                                                                 \n",
            "=================================================================\n",
            "Total params: 14,764,866\n",
            "Trainable params: 7,129,602\n",
            "Non-trainable params: 7,635,264\n",
            "_________________________________________________________________\n"
          ]
        }
      ]
    },
    {
      "cell_type": "markdown",
      "source": [
        "## コンパイルしたモデルで収集した画像データを学習させる"
      ],
      "metadata": {
        "id": "TK_z3p-4fYYj"
      }
    },
    {
      "cell_type": "code",
      "source": [
        "model.fit(X_train,Y_train,epochs=20,batch_size=16)\n"
      ],
      "metadata": {
        "colab": {
          "base_uri": "https://localhost:8080/"
        },
        "id": "alT-D1y8e0Rj",
        "outputId": "ec3ba01e-564d-45a3-abbb-d8488ec6dc44"
      },
      "execution_count": 21,
      "outputs": [
        {
          "output_type": "stream",
          "name": "stdout",
          "text": [
            "Epoch 1/20\n",
            "8/8 [==============================] - 13s 243ms/step - loss: 1.5337 - accuracy: 0.5833\n",
            "Epoch 2/20\n",
            "8/8 [==============================] - 1s 89ms/step - loss: 0.7532 - accuracy: 0.5167\n",
            "Epoch 3/20\n",
            "8/8 [==============================] - 1s 92ms/step - loss: 0.6916 - accuracy: 0.4917\n",
            "Epoch 4/20\n",
            "8/8 [==============================] - 1s 89ms/step - loss: 0.6957 - accuracy: 0.4833\n",
            "Epoch 5/20\n",
            "8/8 [==============================] - 1s 89ms/step - loss: 0.6931 - accuracy: 0.4833\n",
            "Epoch 6/20\n",
            "8/8 [==============================] - 1s 89ms/step - loss: 0.8965 - accuracy: 0.5833\n",
            "Epoch 7/20\n",
            "8/8 [==============================] - 1s 91ms/step - loss: 0.6897 - accuracy: 0.5500\n",
            "Epoch 8/20\n",
            "8/8 [==============================] - 1s 89ms/step - loss: 0.6964 - accuracy: 0.5500\n",
            "Epoch 9/20\n",
            "8/8 [==============================] - 1s 91ms/step - loss: 0.7359 - accuracy: 0.4833\n",
            "Epoch 10/20\n",
            "8/8 [==============================] - 1s 90ms/step - loss: 0.6909 - accuracy: 0.5500\n",
            "Epoch 11/20\n",
            "8/8 [==============================] - 1s 90ms/step - loss: 0.6934 - accuracy: 0.5500\n",
            "Epoch 12/20\n",
            "8/8 [==============================] - 1s 92ms/step - loss: 0.6916 - accuracy: 0.5500\n",
            "Epoch 13/20\n",
            "8/8 [==============================] - 1s 91ms/step - loss: 0.6915 - accuracy: 0.5500\n",
            "Epoch 14/20\n",
            "8/8 [==============================] - 1s 90ms/step - loss: 0.6913 - accuracy: 0.5500\n",
            "Epoch 15/20\n",
            "8/8 [==============================] - 1s 90ms/step - loss: 0.6912 - accuracy: 0.5500\n",
            "Epoch 16/20\n",
            "8/8 [==============================] - 1s 90ms/step - loss: 0.6911 - accuracy: 0.5500\n",
            "Epoch 17/20\n",
            "8/8 [==============================] - 1s 91ms/step - loss: 0.6909 - accuracy: 0.5500\n",
            "Epoch 18/20\n",
            "8/8 [==============================] - 1s 91ms/step - loss: 0.6908 - accuracy: 0.5500\n",
            "Epoch 19/20\n",
            "8/8 [==============================] - 1s 91ms/step - loss: 0.6907 - accuracy: 0.5500\n",
            "Epoch 20/20\n",
            "8/8 [==============================] - 1s 90ms/step - loss: 0.6906 - accuracy: 0.5500\n"
          ]
        },
        {
          "output_type": "execute_result",
          "data": {
            "text/plain": [
              "<keras.callbacks.History at 0x7f2bc21927f0>"
            ]
          },
          "metadata": {},
          "execution_count": 21
        }
      ]
    },
    {
      "cell_type": "markdown",
      "source": [
        "## 学習の成果を指標(accuracy)で確認"
      ],
      "metadata": {
        "id": "R4OH66U2hvkn"
      }
    },
    {
      "cell_type": "code",
      "source": [
        "score=model.evaluate(X_test,Y_test,batch_size=16)"
      ],
      "metadata": {
        "colab": {
          "base_uri": "https://localhost:8080/"
        },
        "id": "XZZpkDfuh2pD",
        "outputId": "ca86e217-ee37-4eea-be40-ee3d5cdd71d0"
      },
      "execution_count": 22,
      "outputs": [
        {
          "output_type": "stream",
          "name": "stdout",
          "text": [
            "2/2 [==============================] - 2s 2s/step - loss: 0.7064 - accuracy: 0.2903\n"
          ]
        }
      ]
    },
    {
      "cell_type": "markdown",
      "source": [
        "## 作成した学習モデルとクラス分類名を保存"
      ],
      "metadata": {
        "id": "9wkejn76ih6x"
      }
    },
    {
      "cell_type": "code",
      "source": [
        "import pickle\n",
        "# Vクラス分類の保存\n",
        "pickle.dump(classes,open('classes.sav','wb'))# オブジェクトをバイナリファイルで保存\n",
        "# 学習モデルの保存\n",
        "model.save('cnn.h5')"
      ],
      "metadata": {
        "id": "qcPpjwFIiBa5"
      },
      "execution_count": 23,
      "outputs": []
    },
    {
      "cell_type": "markdown",
      "source": [
        "## 保存したクラス分類と学習モデルを読み込んで使う"
      ],
      "metadata": {
        "id": "mrhKg372kJm8"
      }
    },
    {
      "cell_type": "code",
      "source": [
        "# ライブラリのimport\n",
        "from keras.models import load_model\n",
        "import pickle\n",
        "import cv2\n",
        "import glob"
      ],
      "metadata": {
        "id": "MYTpzjzYjL7g"
      },
      "execution_count": 24,
      "outputs": []
    },
    {
      "cell_type": "markdown",
      "source": [
        "## ファイルを読み込んでオブジェクトとして蘇らせる"
      ],
      "metadata": {
        "id": "3ibMTLCFlKA3"
      }
    },
    {
      "cell_type": "code",
      "source": [
        "model=load_model('cnn.h5')\n",
        "classes=pickle.load(open('classes.sav','rb'))"
      ],
      "metadata": {
        "id": "wW5vcB8ZkwLT"
      },
      "execution_count": 25,
      "outputs": []
    },
    {
      "cell_type": "markdown",
      "source": [
        "### sample画像を読み込む"
      ],
      "metadata": {
        "id": "o1U4mjOcTsFa"
      }
    },
    {
      "cell_type": "code",
      "source": [
        "files=glob.glob('sample/*')\n",
        "print(files)"
      ],
      "metadata": {
        "id": "JIaWKypDlhQ0",
        "colab": {
          "base_uri": "https://localhost:8080/"
        },
        "outputId": "dab1b06f-1f3f-40c9-b28e-4e5228228608"
      },
      "execution_count": 28,
      "outputs": [
        {
          "output_type": "stream",
          "name": "stdout",
          "text": [
            "['sample/dog_5.jpg', 'sample/dog_6.jpg', 'sample/dog_7.jpg']\n"
          ]
        }
      ]
    },
    {
      "cell_type": "markdown",
      "source": [
        "### ファイルパスから画像を読み込み、学習モデルに判定させ、該当するoutputフォルダにコピーを書き込む"
      ],
      "metadata": {
        "id": "bV_2qncUVlsr"
      }
    },
    {
      "cell_type": "code",
      "source": [
        "for file in files: #ファイルの数だけグループ\n",
        "  img = cv2.imread(file) #画像データを読み込み\n",
        "  # 判定の為にimgを加工したimg2を作る\n",
        "  img2=cv2.resize(img,dsize=(224,224)) # (224,224)にリサイズ\n",
        "  img2=img2.astype('float32')\n",
        "  img2=img2/255.0 #0~255.0だったデータを0.0~1.0に変換\n",
        "  img2=img2[None,...]# １次元配列に変換\n",
        "  # 正規化したデータを判定\n",
        "  result=model.predict(img2)\n",
        "  print(result)# 画面に生で出力\n",
        "  # 確率が高いクラスを取得\n",
        "  pred=result.argmax()\n",
        "  print(pred, str(classes[pred]))\n",
        "  # 判定したクラス分類のフォルダの方に、画像データを書き込む\n",
        "  cv2.imwrite('output/'+str(classes[pred])+'/'+file,img)"
      ],
      "metadata": {
        "colab": {
          "base_uri": "https://localhost:8080/"
        },
        "id": "dnMQB9LWVKFp",
        "outputId": "ef9a1625-0ebc-448c-d992-73d7942d0f73"
      },
      "execution_count": 32,
      "outputs": [
        {
          "output_type": "stream",
          "name": "stdout",
          "text": [
            "1/1 [==============================] - 0s 16ms/step\n",
            "[[0.48473215 0.51526785]]\n",
            "1 cat\n",
            "1/1 [==============================] - 0s 15ms/step\n",
            "[[0.48473215 0.51526785]]\n",
            "1 cat\n",
            "1/1 [==============================] - 0s 16ms/step\n",
            "[[0.48473215 0.51526785]]\n",
            "1 cat\n"
          ]
        }
      ]
    },
    {
      "cell_type": "code",
      "source": [],
      "metadata": {
        "id": "_n0BwWWJWcIs"
      },
      "execution_count": null,
      "outputs": []
    }
  ]
}