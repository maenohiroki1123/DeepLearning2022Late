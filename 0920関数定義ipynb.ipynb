{
  "nbformat": 4,
  "nbformat_minor": 0,
  "metadata": {
    "colab": {
      "provenance": [],
      "authorship_tag": "ABX9TyOUsFfXACP4OotA9IiUHXdJ",
      "include_colab_link": true
    },
    "kernelspec": {
      "name": "python3",
      "display_name": "Python 3"
    },
    "language_info": {
      "name": "python"
    }
  },
  "cells": [
    {
      "cell_type": "markdown",
      "metadata": {
        "id": "view-in-github",
        "colab_type": "text"
      },
      "source": [
        "<a href=\"https://colab.research.google.com/github/maenohiroki1123/DeepLearning2022Late/blob/main/0920%E9%96%A2%E6%95%B0%E5%AE%9A%E7%BE%A9ipynb.ipynb\" target=\"_parent\"><img src=\"https://colab.research.google.com/assets/colab-badge.svg\" alt=\"Open In Colab\"/></a>"
      ]
    },
    {
      "cell_type": "markdown",
      "source": [
        "# python3で関数を定義する\n",
        "## 関数定義"
      ],
      "metadata": {
        "id": "-iVz7u9cbUEg"
      }
    },
    {
      "cell_type": "code",
      "execution_count": 1,
      "metadata": {
        "colab": {
          "base_uri": "https://localhost:8080/"
        },
        "id": "le2C0-MabDsy",
        "outputId": "6c028ec2-884a-464b-e444-c98903d5227e"
      },
      "outputs": [
        {
          "output_type": "stream",
          "name": "stdout",
          "text": [
            "test message!\n"
          ]
        }
      ],
      "source": [
        "# helloという関数を定義する\n",
        "# \"hello,kansuu!\"と画面表示する関数\n",
        "def hello():\n",
        "  print('hello,kansuu!')# インデントされている\n",
        "  # インデントされている命令文などは関数の範囲内の中\n",
        "print('test message!')# インデントされていない\n",
        "# インデントされていない命令文などは関数の範囲の外\n",
        "\n"
      ]
    },
    {
      "cell_type": "code",
      "source": [
        "# 作成した関数hello()をコールする\n",
        "hello()\n",
        "hello()"
      ],
      "metadata": {
        "colab": {
          "base_uri": "https://localhost:8080/"
        },
        "id": "i64fC39VbYMg",
        "outputId": "ce8dd8a1-bf29-439b-9d3f-6989fc7f324d"
      },
      "execution_count": 2,
      "outputs": [
        {
          "output_type": "stream",
          "name": "stdout",
          "text": [
            "hello,kansuu!\n",
            "hello,kansuu!\n"
          ]
        }
      ]
    },
    {
      "cell_type": "markdown",
      "source": [
        "## 引数付きの関数を定義する\n"
      ],
      "metadata": {
        "id": "t-VQOSrFeqer"
      }
    },
    {
      "cell_type": "code",
      "source": [
        "# 引数付きの関数hello()を定義\n",
        "def hello(who):\n",
        "  print('hello,'+ who +'!')\n",
        "# ここが関数の終わり\n",
        "\n",
        "hello('python!')\n"
      ],
      "metadata": {
        "colab": {
          "base_uri": "https://localhost:8080/"
        },
        "id": "MixJN9hUeNo8",
        "outputId": "e82a529f-2a24-4ea7-eb7b-b6b5e973f911"
      },
      "execution_count": 3,
      "outputs": [
        {
          "output_type": "stream",
          "name": "stdout",
          "text": [
            "hello,python!!\n"
          ]
        }
      ]
    },
    {
      "cell_type": "markdown",
      "source": [
        "### 複数の引数付きの関数を定義"
      ],
      "metadata": {
        "id": "z1qYS66BgLmi"
      }
    },
    {
      "cell_type": "code",
      "source": [
        "def hello(who,aisatsu):\n",
        "  print('hello,'+who+'さん'+aisatsu)\n",
        "# 関数の終わり\n",
        "hello('田中','おはよう')\n",
        "hello('鈴木','こんにちは')  "
      ],
      "metadata": {
        "colab": {
          "base_uri": "https://localhost:8080/"
        },
        "id": "q-NCPwOGeyST",
        "outputId": "5726f64a-b7a6-49fa-fa2b-54bc08adbce0"
      },
      "execution_count": 5,
      "outputs": [
        {
          "output_type": "stream",
          "name": "stdout",
          "text": [
            "hello,田中さんおはよう\n",
            "hello,鈴木さんこんにちは\n"
          ]
        }
      ]
    },
    {
      "cell_type": "markdown",
      "source": [
        "# 関数の戻り値を定義する\n",
        "### 戻り値1つの関数を定義"
      ],
      "metadata": {
        "id": "Qz75egoKh19r"
      }
    },
    {
      "cell_type": "code",
      "source": [
        "def helloBack(who,aisatsu):\n",
        "  return who+'さん、'+aisatsu\n",
        "  # 関数終わり\n",
        "# 戻り値を変数xに代入して表示\n",
        "x=helloBack('佐藤','こんばんは')\n",
        "print(x)"
      ],
      "metadata": {
        "colab": {
          "base_uri": "https://localhost:8080/"
        },
        "id": "YPabf7-jgPbN",
        "outputId": "c62cda0b-92d3-44ca-d997-5206963b9b97"
      },
      "execution_count": 6,
      "outputs": [
        {
          "output_type": "stream",
          "name": "stdout",
          "text": [
            "佐藤さん、こんばんは\n"
          ]
        }
      ]
    },
    {
      "cell_type": "markdown",
      "source": [
        "## 複数の戻り値を返す関数を定義"
      ],
      "metadata": {
        "id": "-06SOebSjSbj"
      }
    },
    {
      "cell_type": "code",
      "source": [
        "def keisan(x,y):\n",
        "  #x,y,x+yこの3つの値を返す\n",
        "  return x,y,x+y\n",
        "# 関数終わり\n",
        "\n",
        "# 関数keisanを実行して戻り値を受け取る\n",
        "e,f,g=keisan(3,6)# 戻り値を受け取る\n",
        "print(e,f,g)"
      ],
      "metadata": {
        "colab": {
          "base_uri": "https://localhost:8080/"
        },
        "id": "QZw9C1R4iAT6",
        "outputId": "bb323539-98f5-46c0-e2e9-cd906babd56c"
      },
      "execution_count": 9,
      "outputs": [
        {
          "output_type": "stream",
          "name": "stdout",
          "text": [
            "3 6 9\n"
          ]
        }
      ]
    },
    {
      "cell_type": "markdown",
      "source": [
        "# その他の文法\n",
        "## 分岐(if文)"
      ],
      "metadata": {
        "id": "8ZNiRM6DlPkP"
      }
    },
    {
      "cell_type": "code",
      "source": [
        "# if文の範囲もインデントで表す\n",
        "# numの値を閾値で分岐する\n",
        "def over(num,thres):\n",
        "  if num > thres:# numが閾値より大きい時\n",
        "    print(str(num)+'は'+str(thres)+'より大きい')\n",
        "  else:\n",
        "    print(str(num)+'は'+str(thres)+'以下です')\n",
        "  # 分岐の終わり\n",
        "# 関数終わり\n",
        "\n",
        "over(333,100)\n",
        "over(-1,10)\n",
        "\n",
        "\n"
      ],
      "metadata": {
        "colab": {
          "base_uri": "https://localhost:8080/"
        },
        "id": "u7JMwL5yjWjD",
        "outputId": "d918a15f-c6a1-44d3-be6c-48ba2a3f954b"
      },
      "execution_count": 2,
      "outputs": [
        {
          "output_type": "stream",
          "name": "stdout",
          "text": [
            "333は100より大きい\n",
            "-1は10以下です\n"
          ]
        }
      ]
    },
    {
      "cell_type": "code",
      "source": [
        "# リストに第2引数の値が含まれるか判定\n",
        "def include(list,keyword):\n",
        "  uniq=set(list)# リストを集合に変換\n",
        "  if keyword in uniq:\n",
        "    print(keyword+'は含まれる')\n",
        "  else:\n",
        "    print(keyword+'は含まれない')\n",
        "\n",
        "list_1=['アップル','ペン','ペン','パイナップル']# 第一引数に使うリスト\n",
        "include(list_1,'パイナップル')\n",
        "include(list_1,'バナナ')"
      ],
      "metadata": {
        "colab": {
          "base_uri": "https://localhost:8080/"
        },
        "id": "xJx-U2Cdli9a",
        "outputId": "3bdba458-702f-4d26-f57d-539e086c50ee"
      },
      "execution_count": 5,
      "outputs": [
        {
          "output_type": "stream",
          "name": "stdout",
          "text": [
            "パイナップルは含まれる\n",
            "バナナは含まれない\n"
          ]
        }
      ]
    },
    {
      "cell_type": "code",
      "source": [
        "# while分は条件がtrueのあい# while分は条件がtrueの間繰り返す\n",
        "\n",
        "def count(max):\n",
        "  num=0\n",
        "  while num < max:\n",
        "    print(num)\n",
        "    num +=1\n",
        "    #while繰り返し終わり\n",
        "# 関数終わり\n",
        "count(5)"
      ],
      "metadata": {
        "colab": {
          "base_uri": "https://localhost:8080/"
        },
        "id": "alf9VHJ8viyg",
        "outputId": "e5a531c1-38b9-4ef6-ad25-9f9d4ad8ed82"
      },
      "execution_count": 2,
      "outputs": [
        {
          "output_type": "stream",
          "name": "stdout",
          "text": [
            "0\n",
            "1\n",
            "2\n",
            "3\n",
            "4\n"
          ]
        }
      ]
    },
    {
      "cell_type": "markdown",
      "source": [
        "## 繰り返し文(for)\n",
        "変数bの集合から1つずつ取り出して変数aとして使う\n",
        "\n",
        "for 変数a in range(変数b)"
      ],
      "metadata": {
        "id": "aEGJ-_86yqZh"
      }
    },
    {
      "cell_type": "code",
      "source": [
        "# 集合(コレクション)の中から取り出して繰り返し\n",
        "def every(array):\n",
        "  for x in array:# arrayの中から1つずつデータを取り出しxに代入\n",
        "    print(x)\n",
        "    # for文終わり\n",
        "# 関数終わり\n",
        "\n",
        "list=[1,2,3]\n",
        "every(list)\n",
        "tuple=(4,5,6)\n",
        "every(tuple)\n",
        "# 辞書型もコレクション\n",
        "dict={'a':7,'b':8,'c':9}\n",
        "every(dict)# キーワードの一覧表示\n",
        "values=dict.values()# 値のリストを取得\n",
        "every(values)# 値の一覧を表示\n",
        "# 文字列も文字配列としてコレクション扱い出来る\n",
        "every('dog')# dogとして表示"
      ],
      "metadata": {
        "colab": {
          "base_uri": "https://localhost:8080/"
        },
        "id": "_JVYaPR0xh4p",
        "outputId": "303da5a3-4e94-466f-e202-f55a6d8da566"
      },
      "execution_count": 5,
      "outputs": [
        {
          "output_type": "stream",
          "name": "stdout",
          "text": [
            "1\n",
            "2\n",
            "3\n",
            "4\n",
            "5\n",
            "6\n",
            "a\n",
            "b\n",
            "c\n",
            "7\n",
            "8\n",
            "9\n",
            "d\n",
            "o\n",
            "g\n"
          ]
        }
      ]
    },
    {
      "cell_type": "code",
      "source": [
        "# カウンター変数で繰り返す\n",
        "# for n in range(数値)0~数値未満を繰り返す\n",
        "\n",
        "def count(num):\n",
        "  for i in range(num):# 0~num繰り返す\n",
        "    print(i)\n",
        "    # 繰り返し終わり\n",
        "# 関数終わり\n",
        "\n",
        "count(3)# 0,1,2で繰り返す\n"
      ],
      "metadata": {
        "colab": {
          "base_uri": "https://localhost:8080/"
        },
        "id": "K1DmXqsNzQnT",
        "outputId": "848d2acf-d9c1-44b0-ab8b-a5270fdafd84"
      },
      "execution_count": 6,
      "outputs": [
        {
          "output_type": "stream",
          "name": "stdout",
          "text": [
            "0\n",
            "1\n",
            "2\n"
          ]
        }
      ]
    },
    {
      "cell_type": "markdown",
      "source": [
        "## 繰り返しを中断したいときは、break命令"
      ],
      "metadata": {
        "id": "EIin0Jup4tcz"
      }
    },
    {
      "cell_type": "code",
      "source": [
        "def stop(array):\n",
        "  for i in array:\n",
        "    if i>=4:\n",
        "      break # ループを中断\n",
        "    print(i)\n",
        "    # 分岐終わり\n",
        "  # ループ終わり\n",
        "# 関数終わり\n",
        "\n",
        "list=[1,2,3,4,5,1,2,3,4,5]\n",
        "stop(list)\n",
        "    "
      ],
      "metadata": {
        "colab": {
          "base_uri": "https://localhost:8080/"
        },
        "id": "GEXmJf7T4UP6",
        "outputId": "f9683265-045e-4f61-89fb-848ecb6b629d"
      },
      "execution_count": 7,
      "outputs": [
        {
          "output_type": "stream",
          "name": "stdout",
          "text": [
            "1\n",
            "2\n",
            "3\n"
          ]
        }
      ]
    },
    {
      "cell_type": "markdown",
      "source": [
        "## 繰り返しをスキップしたいときは、continue命令"
      ],
      "metadata": {
        "id": "y2cB41Q-6dfb"
      }
    },
    {
      "cell_type": "code",
      "source": [
        "def skip(array):\n",
        "  for i in array:\n",
        "    if i >= 4:\n",
        "      continue\n",
        "    print(i)\n",
        "list=[1,2,3,4,5,1,2,3,4,5]\n",
        "skip(list)"
      ],
      "metadata": {
        "colab": {
          "base_uri": "https://localhost:8080/"
        },
        "id": "DRNp66E540QP",
        "outputId": "3af0a053-241d-4ed7-a401-67bffd0c110a"
      },
      "execution_count": 3,
      "outputs": [
        {
          "output_type": "stream",
          "name": "stdout",
          "text": [
            "1\n",
            "2\n",
            "3\n",
            "1\n",
            "2\n",
            "3\n"
          ]
        }
      ]
    },
    {
      "cell_type": "code",
      "source": [],
      "metadata": {
        "id": "8vGUnlYa6jp4"
      },
      "execution_count": null,
      "outputs": []
    }
  ]
}