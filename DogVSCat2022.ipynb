{
  "nbformat": 4,
  "nbformat_minor": 0,
  "metadata": {
    "colab": {
      "provenance": [],
      "collapsed_sections": [],
      "authorship_tag": "ABX9TyMZ/nBfBzGlB0TDIm27O2o6",
      "include_colab_link": true
    },
    "kernelspec": {
      "name": "python3",
      "display_name": "Python 3"
    },
    "language_info": {
      "name": "python"
    }
  },
  "cells": [
    {
      "cell_type": "markdown",
      "metadata": {
        "id": "view-in-github",
        "colab_type": "text"
      },
      "source": [
        "<a href=\"https://colab.research.google.com/github/maenohiroki1123/DeepLearning2022Late/blob/main/DogVSCat2022.ipynb\" target=\"_parent\"><img src=\"https://colab.research.google.com/assets/colab-badge.svg\" alt=\"Open In Colab\"/></a>"
      ]
    },
    {
      "cell_type": "markdown",
      "source": [
        "# Keras\n",
        "画像を読み込む"
      ],
      "metadata": {
        "id": "wTHNUKES5kuZ"
      }
    },
    {
      "cell_type": "markdown",
      "source": [
        "### ライブラリの読み込み"
      ],
      "metadata": {
        "id": "R_-Nj_415sNy"
      }
    },
    {
      "cell_type": "code",
      "execution_count": null,
      "metadata": {
        "id": "h_NXYPUB3O3x"
      },
      "outputs": [],
      "source": [
        "%matplotlib inline\n",
        "from keras.applications.vgg16 import VGG16,preprocess_input, decode_predictions\n",
        "from keras.preprocessing import image\n",
        "from PIL import Image\n",
        "import matplotlib.pyplot as plt\n",
        "import numpy as np\n",
        "import sys"
      ]
    },
    {
      "cell_type": "markdown",
      "source": [
        "### 学習済みモデルの読み込み"
      ],
      "metadata": {
        "id": "G_eynr8I8UE3"
      }
    },
    {
      "cell_type": "code",
      "source": [
        "model=VGG16(weights='imagenet')"
      ],
      "metadata": {
        "id": "5CfUar0p5qcG"
      },
      "execution_count": null,
      "outputs": []
    },
    {
      "cell_type": "markdown",
      "source": [
        "### 画像判定のための関数"
      ],
      "metadata": {
        "id": "8b3tEFRB8snG"
      }
    },
    {
      "cell_type": "code",
      "source": [
        "def predict(filename, featuresize):\n",
        "  img=image.load_img(filename, target_size=(224,224))\n",
        "  x=image.img_to_array(img)\n",
        "  x=np.expand_dims(x,axis=0)\n",
        "  # 学習モデルで判定を実行\n",
        "  preds=model.predict(preprocess_input(x))\n",
        "  results=decode_predictions(preds,top=featuresize)[0]\n",
        "  return results\n",
        "# 関数終わり"
      ],
      "metadata": {
        "id": "LywzYdxx8ezh"
      },
      "execution_count": null,
      "outputs": []
    },
    {
      "cell_type": "markdown",
      "source": [
        "### 画像表示のための関数"
      ],
      "metadata": {
        "id": "wENwqm6D_4YQ"
      }
    },
    {
      "cell_type": "code",
      "source": [
        "def showimg(filename, title,i):\n",
        "  im=Image.open(filename)#画像ファイルを開く\n",
        "  im_list=np.array(im)#画像ビットデータをndarrayにする\n",
        "  plt.subplot(2,5,i)\n",
        "  plt.axis(\"off\")\n",
        "  plt.imshow(im_list)\n",
        "#関数終わり\n"
      ],
      "metadata": {
        "id": "MXeQdLF__K7z"
      },
      "execution_count": null,
      "outputs": []
    },
    {
      "cell_type": "markdown",
      "source": [
        "### kaggleにある画像データを利用する\n",
        "https://www.kaggle.com/\n",
        "<br>犬猫画像データ<br>\n",
        "https://www.kaggle.com/犬猫判定用の画像データhttps://www.kaggle.com/c/dogs-vs-cats/data\n",
        "\n",
        "\n",
        "\n"
      ],
      "metadata": {
        "id": "gVFE9I1jBjle"
      }
    },
    {
      "cell_type": "markdown",
      "source": [
        "## 指定されたURLからファイルをダウンロードする"
      ],
      "metadata": {
        "id": "MW2kvL5DuS4a"
      }
    },
    {
      "cell_type": "code",
      "source": [
        "# wgwtでwebからファイルをダウンロードする\n",
        "# GoogleColabでコマンドを実行するときは、先頭に!マークを必ずつけること\n",
        "# 小さいファイルをGoogleドライブからDLするときは、以下のようにURLをつけるだけ\n",
        "!wget --load-cookies /tmp/cookies.txt \"https://drive.google.com/uc?export=download&confirm=$(wget --quiet --save-cookies /tmp/cookies.txt --keep-session-cookies --no-check-certificate 'https://drive.google.com/uc?export=download&id=1WQ9KZ-St4BqUWkqYJZYBIXQ8tT92DW_2' -O- | sed -rn 's/.*confirm=([0-9A-Za-z_]+).*/\\1\\n/p')&id=1WQ9KZ-St4BqUWkqYJZYBIXQ8tT92DW_2\" -O train.zip && rm -rf /tmp/cookies.txt\n",
        "!wget --load-cookies /tmp/cookies.txt \"https://drive.google.com/uc?export=download&confirm=$(wget --quiet --save-cookies /tmp/cookies.txt --keep-session-cookies --no-check-certificate 'https://drive.google.com/uc?export=download&id=1WQ9KZ-St4BqUWkqYJZYBIXQ8tT92DW_2' -O- | sed -rn 's/.*confirm=([0-9A-Za-z_]+).*/\\1\\n/p')&id=1WQ9KZ-St4BqUWkqYJZYBIXQ8tT92DW_2\" -O test.zip && rm -rf /tmp/cookies.txt\n"
      ],
      "metadata": {
        "id": "SLkFzlHhBoxL",
        "colab": {
          "base_uri": "https://localhost:8080/"
        },
        "outputId": "f51e62f8-b8d9-463c-8707-76be92993b30"
      },
      "execution_count": null,
      "outputs": [
        {
          "output_type": "stream",
          "name": "stdout",
          "text": [
            "--2022-10-04 00:47:38--  https://drive.google.com/uc?export=download&confirm=t&id=1WQ9KZ-St4BqUWkqYJZYBIXQ8tT92DW_2\n",
            "Resolving drive.google.com (drive.google.com)... 142.250.103.138, 142.250.103.113, 142.250.103.100, ...\n",
            "Connecting to drive.google.com (drive.google.com)|142.250.103.138|:443... connected.\n",
            "HTTP request sent, awaiting response... 303 See Other\n",
            "Location: https://doc-0k-1s-docs.googleusercontent.com/docs/securesc/ha0ro937gcuc7l7deffksulhg5h7mbp1/cc2q1rntvvqnddgkab6toff15ce2eps7/1664844450000/14334177730080324288/*/1WQ9KZ-St4BqUWkqYJZYBIXQ8tT92DW_2?e=download&uuid=a78f0e1e-7a08-4f07-97da-8540ded8973a [following]\n",
            "Warning: wildcards not supported in HTTP.\n",
            "--2022-10-04 00:47:38--  https://doc-0k-1s-docs.googleusercontent.com/docs/securesc/ha0ro937gcuc7l7deffksulhg5h7mbp1/cc2q1rntvvqnddgkab6toff15ce2eps7/1664844450000/14334177730080324288/*/1WQ9KZ-St4BqUWkqYJZYBIXQ8tT92DW_2?e=download&uuid=a78f0e1e-7a08-4f07-97da-8540ded8973a\n",
            "Resolving doc-0k-1s-docs.googleusercontent.com (doc-0k-1s-docs.googleusercontent.com)... 142.251.120.132, 2607:f8b0:4001:c2e::84\n",
            "Connecting to doc-0k-1s-docs.googleusercontent.com (doc-0k-1s-docs.googleusercontent.com)|142.251.120.132|:443... connected.\n",
            "HTTP request sent, awaiting response... 200 OK\n",
            "Length: 569872234 (543M) [application/x-zip-compressed]\n",
            "Saving to: ‘train.zip’\n",
            "\n",
            "train.zip           100%[===================>] 543.47M   111MB/s    in 4.6s    \n",
            "\n",
            "2022-10-04 00:47:43 (119 MB/s) - ‘train.zip’ saved [569872234/569872234]\n",
            "\n",
            "--2022-10-04 00:47:43--  https://drive.google.com/uc?export=download&confirm=t&id=1WQ9KZ-St4BqUWkqYJZYBIXQ8tT92DW_2\n",
            "Resolving drive.google.com (drive.google.com)... 142.250.103.138, 142.250.103.113, 142.250.103.100, ...\n",
            "Connecting to drive.google.com (drive.google.com)|142.250.103.138|:443... connected.\n",
            "HTTP request sent, awaiting response... 303 See Other\n",
            "Location: https://doc-0k-1s-docs.googleusercontent.com/docs/securesc/ha0ro937gcuc7l7deffksulhg5h7mbp1/cc2q1rntvvqnddgkab6toff15ce2eps7/1664844450000/14334177730080324288/*/1WQ9KZ-St4BqUWkqYJZYBIXQ8tT92DW_2?e=download&uuid=dde8c01c-7b88-433a-bbbe-267e5a422da7 [following]\n",
            "Warning: wildcards not supported in HTTP.\n",
            "--2022-10-04 00:47:44--  https://doc-0k-1s-docs.googleusercontent.com/docs/securesc/ha0ro937gcuc7l7deffksulhg5h7mbp1/cc2q1rntvvqnddgkab6toff15ce2eps7/1664844450000/14334177730080324288/*/1WQ9KZ-St4BqUWkqYJZYBIXQ8tT92DW_2?e=download&uuid=dde8c01c-7b88-433a-bbbe-267e5a422da7\n",
            "Resolving doc-0k-1s-docs.googleusercontent.com (doc-0k-1s-docs.googleusercontent.com)... 142.251.120.132, 2607:f8b0:4001:c2e::84\n",
            "Connecting to doc-0k-1s-docs.googleusercontent.com (doc-0k-1s-docs.googleusercontent.com)|142.251.120.132|:443... connected.\n",
            "HTTP request sent, awaiting response... 200 OK\n",
            "Length: 569872234 (543M) [application/x-zip-compressed]\n",
            "Saving to: ‘test.zip’\n",
            "\n",
            "test.zip            100%[===================>] 543.47M   119MB/s    in 5.2s    \n",
            "\n",
            "2022-10-04 00:47:49 (104 MB/s) - ‘test.zip’ saved [569872234/569872234]\n",
            "\n"
          ]
        }
      ]
    },
    {
      "cell_type": "markdown",
      "source": [
        "## Golbに自分のGoogleアカウントのドライブをマウントする"
      ],
      "metadata": {
        "id": "LiMvVyXCzAsB"
      }
    },
    {
      "cell_type": "code",
      "source": [
        "# googlwドライブを操作するモジュールをimport\n",
        "from google.colab import drive\n",
        "# googleドライブをマウント\n",
        "drive.mount('/content/drive')"
      ],
      "metadata": {
        "colab": {
          "base_uri": "https://localhost:8080/"
        },
        "id": "24BwgF3bwl-A",
        "outputId": "e0a2ff27-1cd8-4366-e58c-8f6bea5463e9"
      },
      "execution_count": null,
      "outputs": [
        {
          "output_type": "stream",
          "name": "stdout",
          "text": [
            "Drive already mounted at /content/drive; to attempt to forcibly remount, call drive.mount(\"/content/drive\", force_remount=True).\n"
          ]
        }
      ]
    },
    {
      "cell_type": "markdown",
      "source": [
        "## DLしてきたファイルをマウントしたディレクトにコピーする"
      ],
      "metadata": {
        "id": "gaUxOUde1G1l"
      }
    },
    {
      "cell_type": "code",
      "source": [
        "# コピーファイルを置くディレクトリを作る\n",
        "import os\n",
        "dir_path=\"/content/drive/My Drive/2022LATE\"\n",
        "# すでにディレクトリがあってもエラーにしない\n",
        "os.makedirs( dir_path, exist_ok=True)\n",
        "!pwd # 今いるディレクトリを表示\n",
        "# ファイルをコピー\n",
        "!cp train.zip \"/content/drive/My Drive/2022LATE\"\n",
        "\n"
      ],
      "metadata": {
        "colab": {
          "base_uri": "https://localhost:8080/"
        },
        "id": "R4VF2Fvcz8cF",
        "outputId": "5e853cf2-6584-4b70-bcb4-7aaa99c27ff4"
      },
      "execution_count": null,
      "outputs": [
        {
          "output_type": "stream",
          "name": "stdout",
          "text": [
            "/content\n"
          ]
        }
      ]
    },
    {
      "cell_type": "markdown",
      "source": [
        "## GoogleドライブからColabへファイルコピー"
      ],
      "metadata": {
        "id": "Cbe_sdGS4C5N"
      }
    },
    {
      "cell_type": "code",
      "source": [
        "!cp \"/content/drive/My Drive/2022LATE/ train.zip\"."
      ],
      "metadata": {
        "colab": {
          "base_uri": "https://localhost:8080/"
        },
        "id": "235pp-eB3Kxg",
        "outputId": "0d64b22b-bef6-43ea-c46a-d97483de70ea"
      },
      "execution_count": null,
      "outputs": [
        {
          "output_type": "stream",
          "name": "stdout",
          "text": [
            "cp: missing destination file operand after '/content/drive/My Drive/2022LATE/ train.zip.'\n",
            "Try 'cp --help' for more information.\n"
          ]
        }
      ]
    },
    {
      "cell_type": "markdown",
      "source": [
        "## zipファイルを解凍する"
      ],
      "metadata": {
        "id": "fTlz8wAp4lvS"
      }
    },
    {
      "cell_type": "code",
      "source": [
        "# unzipコマンドで解凍\n",
        "\n",
        "!unzip -o -q \"train.zip\"\n",
        "\n",
        "print(\"zip解凍完了\")"
      ],
      "metadata": {
        "id": "m9_WMuTF4V-6",
        "colab": {
          "base_uri": "https://localhost:8080/"
        },
        "outputId": "90471975-c83e-4a83-d726-61d193859566"
      },
      "execution_count": null,
      "outputs": [
        {
          "output_type": "stream",
          "name": "stdout",
          "text": [
            "zip解凍完了\n"
          ]
        }
      ]
    },
    {
      "cell_type": "markdown",
      "source": [
        "## 解凍した画像を使って画像判定させる"
      ],
      "metadata": {
        "id": "xkjdjN5Dgz54"
      }
    },
    {
      "cell_type": "code",
      "source": [
        "# filename = \"train/cat.101.jpg\"\n",
        "filename = \"itati_otamesi.jpg\"\n",
        "\n",
        "plt.figure(figsize=(20, 10))\n",
        "\n",
        "for i in range(1):\n",
        "\n",
        "  showimg(filename, \"What's this??\", i+1)\n",
        "\n",
        "# ループ終わり\n",
        "\n",
        "plt.show()\n",
        "\n",
        "\n",
        "\n",
        "# 表示した画像を判定\n",
        "\n",
        "results = predict(filename, 10)\n",
        "\n",
        "for result in results:\n",
        "\n",
        "  print(result)"
      ],
      "metadata": {
        "colab": {
          "base_uri": "https://localhost:8080/",
          "height": 391
        },
        "id": "BYXxWRejdKyS",
        "outputId": "84f3743b-e0fe-4073-e594-0fca301a1556"
      },
      "execution_count": null,
      "outputs": [
        {
          "output_type": "display_data",
          "data": {
            "text/plain": [
              "<Figure size 1440x720 with 1 Axes>"
            ],
            "image/png": "[encoded data removed]"
          },
          "metadata": {
            "needs_background": "light"
          }
        },
        {
          "output_type": "stream",
          "name": "stdout",
          "text": [
            "('n02443484', 'black-footed_ferret', 0.5775373)\n",
            "('n02441942', 'weasel', 0.19618839)\n",
            "('n02443114', 'polecat', 0.15776679)\n",
            "('n02442845', 'mink', 0.058535773)\n",
            "('n02490219', 'marmoset', 0.003596151)\n",
            "('n02492035', 'capuchin', 0.0013826449)\n",
            "('n02137549', 'mongoose', 0.0011052059)\n",
            "('n02493509', 'titi', 0.0008583515)\n",
            "('n02445715', 'skunk', 0.00069723144)\n",
            "('n02444819', 'otter', 0.0005843955)\n"
          ]
        }
      ]
    },
    {
      "cell_type": "code",
      "source": [],
      "metadata": {
        "id": "lKmAIK0ehHC1"
      },
      "execution_count": null,
      "outputs": []
    }
  ]
}