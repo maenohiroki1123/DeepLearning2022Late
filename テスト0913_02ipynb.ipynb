{
  "nbformat": 4,
  "nbformat_minor": 0,
  "metadata": {
    "colab": {
      "provenance": [],
      "collapsed_sections": [],
      "authorship_tag": "ABX9TyOF85fjqYED2dlFLOAmnw+E",
      "include_colab_link": true
    },
    "kernelspec": {
      "name": "python3",
      "display_name": "Python 3"
    },
    "language_info": {
      "name": "python"
    }
  },
  "cells": [
    {
      "cell_type": "markdown",
      "metadata": {
        "id": "view-in-github",
        "colab_type": "text"
      },
      "source": [
        "<a href=\"https://colab.research.google.com/github/maenohiroki1123/DeepLearning2022Late/blob/main/%E3%83%86%E3%82%B9%E3%83%880913_02ipynb.ipynb\" target=\"_parent\"><img src=\"https://colab.research.google.com/assets/colab-badge.svg\" alt=\"Open In Colab\"/></a>"
      ]
    },
    {
      "cell_type": "markdown",
      "source": [
        "# 辞書型(dictionary)\n",
        "### キーとなる値のペアで管理する"
      ],
      "metadata": {
        "id": "8M-Cc-s9zfOc"
      }
    },
    {
      "cell_type": "markdown",
      "source": [
        "###辞書型の定義"
      ],
      "metadata": {
        "id": "NEf1BkXJzv40"
      }
    },
    {
      "cell_type": "code",
      "execution_count": null,
      "metadata": {
        "colab": {
          "base_uri": "https://localhost:8080/"
        },
        "id": "cwnFVkkfylvQ",
        "outputId": "0c3175ad-126e-4122-9e5e-7c27aa44b7e3"
      },
      "outputs": [
        {
          "output_type": "stream",
          "name": "stdout",
          "text": [
            "{'アップル': 1, 'ペン': 2, 'パイナップル': 3}\n",
            "2\n"
          ]
        }
      ],
      "source": [
        "#　辞書型のデータを作って変数dictに代入\n",
        "#　{キーワード：値,'キーワード'：値}でデータを管理\n",
        "dict={'アップル':1,'ペン':2,'パイナップル':3}\n",
        "print(dict)\n",
        "# 値を利用するときはキーワードで指定\n",
        "print(dict['ペン'])"
      ]
    },
    {
      "cell_type": "markdown",
      "source": [
        "### 辞書型のキーワード一覧、値一覧を取得する\n"
      ],
      "metadata": {
        "id": "LGxyQ6mt1rdV"
      }
    },
    {
      "cell_type": "code",
      "source": [
        "print(dict)\n",
        "#　dictに入っているキーの一覧\n",
        "print(dict.keys())\n",
        "# dictに入っている値の一覧\n",
        "print(dict.values())"
      ],
      "metadata": {
        "colab": {
          "base_uri": "https://localhost:8080/"
        },
        "id": "jArTCrNGzuFy",
        "outputId": "8ebe1cf1-fb5d-47f1-f626-52266e191293"
      },
      "execution_count": null,
      "outputs": [
        {
          "output_type": "stream",
          "name": "stdout",
          "text": [
            "{'アップル': 1, 'ペン': 2, 'パイナップル': 3}\n",
            "dict_keys(['アップル', 'ペン', 'パイナップル'])\n",
            "dict_values([1, 2, 3])\n"
          ]
        }
      ]
    },
    {
      "cell_type": "markdown",
      "source": [
        "###辞書型の追加・削除・更新\n"
      ],
      "metadata": {
        "id": "TlEV5vLQ1GrX"
      }
    },
    {
      "cell_type": "code",
      "source": [
        "print(dict)\n",
        "# dictにバナナというキーワードで値5を追加\n",
        "# print(dict.keys())\n",
        "dict['バナナ']=5\n",
        "print(dict)\n",
        "# キーワードがすでにあったら、そのキーワードを更新\n",
        "dict['バナナ']=100\n",
        "print(dict)\n",
        "# キーワードで指定したペアを削除\n",
        "dict.pop('バナナ')\n",
        "print(dict)"
      ],
      "metadata": {
        "colab": {
          "base_uri": "https://localhost:8080/"
        },
        "id": "KNfiZskB1MnA",
        "outputId": "37f8a167-6162-4c6e-eff3-9e57f200e209"
      },
      "execution_count": null,
      "outputs": [
        {
          "output_type": "stream",
          "name": "stdout",
          "text": [
            "{'アップル': 1, 'ペン': 2, 'パイナップル': 3, 'バナナ': 100}\n",
            "{'アップル': 1, 'ペン': 2, 'パイナップル': 3, 'バナナ': 5}\n",
            "{'アップル': 1, 'ペン': 2, 'パイナップル': 3, 'バナナ': 100}\n",
            "{'アップル': 1, 'ペン': 2, 'パイナップル': 3}\n"
          ]
        }
      ]
    },
    {
      "cell_type": "markdown",
      "source": [
        "# 文字列の整形\n",
        "## 文字列の連結と繰り返し"
      ],
      "metadata": {
        "id": "87SO2ljw4Yse"
      }
    },
    {
      "cell_type": "code",
      "source": [
        "# 文字列の連結方法①\n",
        "apple='アップル'\n",
        "pen='ペン'\n",
        "print(apple + pen)# プラス記号で連結\n",
        "# 文字列の連結方法②\n",
        "piko=['ペン','パイナップル','アップル','ペン']\n",
        "# printメソッドで連結して表示　例：　,で連結\n",
        "print('&'.join(piko))\n",
        "# 回数を指定してメッセージを表示\n",
        "pon='ポン'\n",
        "print(pon*3)"
      ],
      "metadata": {
        "colab": {
          "base_uri": "https://localhost:8080/"
        },
        "id": "LcbulC5C2vAN",
        "outputId": "928b8bf3-5402-4b8e-ca0d-8984b3c0648c"
      },
      "execution_count": null,
      "outputs": [
        {
          "output_type": "stream",
          "name": "stdout",
          "text": [
            "アップルペン\n",
            "ペン&パイナップル&アップル&ペン\n",
            "ポンポンポン\n"
          ]
        }
      ]
    },
    {
      "cell_type": "markdown",
      "source": [
        "## 【重要】文字列の整形(フォーマット)"
      ],
      "metadata": {
        "id": "4rl3rUzI7LJb"
      }
    },
    {
      "cell_type": "code",
      "source": [
        "# 定式で指定した形のメッセージにする\n",
        "print('{}{}:{}円')\n",
        "# スロットを定義した順番に、その数だけデータを引き渡して文章を組み立てる\n",
        "print('{}{}:{}円'.format('アップル','ペン',100))\n",
        "# スロットを値のインデックスで指定する事も出来る\n",
        "print('{1}{2}:{0}円'.format(100,'アップル','ペン'))"
      ],
      "metadata": {
        "colab": {
          "base_uri": "https://localhost:8080/"
        },
        "id": "r2urxRGN4dnm",
        "outputId": "d118ec3e-b899-42fe-d6b4-aa5c43cbc513"
      },
      "execution_count": null,
      "outputs": [
        {
          "output_type": "stream",
          "name": "stdout",
          "text": [
            "{}{}:{}円\n",
            "アップルペン:100円\n",
            "アップルペン:100円\n"
          ]
        }
      ]
    },
    {
      "cell_type": "markdown",
      "source": [
        "# コレクション演算\n",
        "リスト、タプル、つまり順番がある集合の事をシーケンスという。\n",
        "順番がない集合を集合型(セット)という。\n",
        "上記に出井をまとめてコレクションという。\n",
        "コレクションは共通の演算が使える。\n",
        "len(長さ、量を取得)、max(最大値を取得)、min(最小値を取得)など"
      ],
      "metadata": {
        "id": "Juux3EHxXDOS"
      }
    },
    {
      "cell_type": "code",
      "source": [
        "list=[1,1,2,3,4,5,]#6つの要素\n",
        "tuple=(10,9,7,7,8,8,9)#7つの要素\n",
        "set={1,-2,-3,-4,-5,-6,7,-8}#8つの要素\n",
        "#リストの長さ、最大値、最小値\n",
        "print(len(list),max(list),min(list))\n",
        "#タプルの長さ、最大値、最小値\n",
        "print(len(tuple),max(tuple),min(tuple))\n",
        "#セットの長さ、最大値、最小値\n",
        "print(len(set),max(set),min(set))"
      ],
      "metadata": {
        "id": "90g-UFFQ7V0D",
        "colab": {
          "base_uri": "https://localhost:8080/"
        },
        "outputId": "21bf1c90-ad74-430f-ace3-f7ea8d3ec556"
      },
      "execution_count": 3,
      "outputs": [
        {
          "output_type": "stream",
          "name": "stdout",
          "text": [
            "6 5 1\n",
            "7 10 7\n",
            "8 7 -8\n"
          ]
        }
      ]
    },
    {
      "cell_type": "code",
      "source": [],
      "metadata": {
        "id": "uiqkydVSX2m0"
      },
      "execution_count": null,
      "outputs": []
    }
  ]
}