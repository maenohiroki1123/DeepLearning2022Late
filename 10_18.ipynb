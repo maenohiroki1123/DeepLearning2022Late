{
  "nbformat": 4,
  "nbformat_minor": 0,
  "metadata": {
    "colab": {
      "provenance": [],
      "authorship_tag": "ABX9TyP5LW0icX6MoY298eFleoQu",
      "include_colab_link": true
    },
    "kernelspec": {
      "name": "python3",
      "display_name": "Python 3"
    },
    "language_info": {
      "name": "python"
    }
  },
  "cells": [
    {
      "cell_type": "markdown",
      "metadata": {
        "id": "view-in-github",
        "colab_type": "text"
      },
      "source": [
        "<a href=\"https://colab.research.google.com/github/maenohiroki1123/DeepLearning2022Late/blob/main/10_18.ipynb\" target=\"_parent\"><img src=\"https://colab.research.google.com/assets/colab-badge.svg\" alt=\"Open In Colab\"/></a>"
      ]
    },
    {
      "cell_type": "code",
      "execution_count": 1,
      "metadata": {
        "id": "Y4jWVNywhTY6"
      },
      "outputs": [],
      "source": [
        "import numpy as np"
      ]
    },
    {
      "cell_type": "code",
      "source": [
        "x=np.array([1.0,2.0,3.0,4.0,5.0])\n",
        "print(x)\n",
        "\n",
        "x=np.array([1,2,3])\n",
        "print(x)\n",
        "print(type(x))\n",
        "\n",
        "my_list1=[1,2,3,4,5]\n",
        "my_array1=np.array(my_list1)\n",
        "\n",
        "my_list2=[10,20,30,40,50]\n",
        "my_lists=[my_list1,my_list2]\n",
        "my_lists\n",
        "\n",
        "my_array2=np.array(my_lists)\n",
        "\n",
        "my_array2"
      ],
      "metadata": {
        "colab": {
          "base_uri": "https://localhost:8080/"
        },
        "id": "uTvaJLTRhXav",
        "outputId": "0e368ebb-9e39-4ca3-8e78-31997e3360d2"
      },
      "execution_count": 2,
      "outputs": [
        {
          "output_type": "stream",
          "name": "stdout",
          "text": [
            "[1. 2. 3. 4. 5.]\n",
            "[1 2 3]\n",
            "<class 'numpy.ndarray'>\n"
          ]
        },
        {
          "output_type": "execute_result",
          "data": {
            "text/plain": [
              "array([[ 1,  2,  3,  4,  5],\n",
              "       [10, 20, 30, 40, 50]])"
            ]
          },
          "metadata": {},
          "execution_count": 2
        }
      ]
    },
    {
      "cell_type": "code",
      "source": [
        "a=np.array([1,2,3,4])\n",
        "a.shape\n",
        "\n",
        "b=np.array([[1,2],[3,4]])\n",
        "b.shape"
      ],
      "metadata": {
        "colab": {
          "base_uri": "https://localhost:8080/"
        },
        "id": "SAoieYXAi4Bv",
        "outputId": "a1844115-aabf-4321-d561-0b02a6305a29"
      },
      "execution_count": 3,
      "outputs": [
        {
          "output_type": "execute_result",
          "data": {
            "text/plain": [
              "(2, 2)"
            ]
          },
          "metadata": {},
          "execution_count": 3
        }
      ]
    },
    {
      "cell_type": "code",
      "source": [
        "x=np.arange(10)\n",
        "print(x)\n",
        "\n",
        "x=np.arange(1,10).reshape(3,3)\n",
        "y=np.arange(1,10).reshape(3,3)\n",
        "\n",
        "print(x)\n",
        "print(y)\n",
        "\n",
        "print(x+y)\n",
        "print(x-y)\n",
        "print(x*y)"
      ],
      "metadata": {
        "colab": {
          "base_uri": "https://localhost:8080/"
        },
        "id": "G9wHHwa4jJ4t",
        "outputId": "aa70eb9e-8b79-4fba-acba-13d8084a1f97"
      },
      "execution_count": 4,
      "outputs": [
        {
          "output_type": "stream",
          "name": "stdout",
          "text": [
            "[0 1 2 3 4 5 6 7 8 9]\n",
            "[[1 2 3]\n",
            " [4 5 6]\n",
            " [7 8 9]]\n",
            "[[1 2 3]\n",
            " [4 5 6]\n",
            " [7 8 9]]\n",
            "[[ 2  4  6]\n",
            " [ 8 10 12]\n",
            " [14 16 18]]\n",
            "[[0 0 0]\n",
            " [0 0 0]\n",
            " [0 0 0]]\n",
            "[[ 1  4  9]\n",
            " [16 25 36]\n",
            " [49 64 81]]\n"
          ]
        }
      ]
    },
    {
      "cell_type": "code",
      "source": [
        "sample_array=np.arange(10)\n",
        "print(sample_array)\n",
        "\n",
        "sample_array2=sample_array.reshape(2,5)\n",
        "print(sample_array2)\n",
        "\n",
        "sample_array3=np.array([[1,2,3],[4,5,6]])\n",
        "sample_array4=np.array([[7,8,9],[10,11,12]])\n",
        "\n",
        "print(np.concatenate([sample_array3,sample_array4],axis=1))\n",
        "\n",
        "print(np.hstack((sample_array3,sample_array4)))\n",
        "\n",
        "print(np.concatenate([sample_array3,sample_array4],axis=0))\n",
        "\n",
        "print(np.vstack((sample_array3,sample_array4)))"
      ],
      "metadata": {
        "colab": {
          "base_uri": "https://localhost:8080/"
        },
        "id": "_xgqVS5OjhxN",
        "outputId": "a6cd8100-2564-4793-8d81-8fac4d916e42"
      },
      "execution_count": 5,
      "outputs": [
        {
          "output_type": "stream",
          "name": "stdout",
          "text": [
            "[0 1 2 3 4 5 6 7 8 9]\n",
            "[[0 1 2 3 4]\n",
            " [5 6 7 8 9]]\n",
            "[[ 1  2  3  7  8  9]\n",
            " [ 4  5  6 10 11 12]]\n",
            "[[ 1  2  3  7  8  9]\n",
            " [ 4  5  6 10 11 12]]\n",
            "[[ 1  2  3]\n",
            " [ 4  5  6]\n",
            " [ 7  8  9]\n",
            " [10 11 12]]\n",
            "[[ 1  2  3]\n",
            " [ 4  5  6]\n",
            " [ 7  8  9]\n",
            " [10 11 12]]\n"
          ]
        }
      ]
    },
    {
      "cell_type": "code",
      "source": [
        "sample_array=np.arange(10)\n",
        "print(sample_array)\n",
        "\n",
        "print(sample_array+5)\n"
      ],
      "metadata": {
        "colab": {
          "base_uri": "https://localhost:8080/"
        },
        "id": "S45H_zhBlQpW",
        "outputId": "93d00a5a-e925-4ec2-e3d3-4c345eaa3125"
      },
      "execution_count": 6,
      "outputs": [
        {
          "output_type": "stream",
          "name": "stdout",
          "text": [
            "[0 1 2 3 4 5 6 7 8 9]\n",
            "[ 5  6  7  8  9 10 11 12 13 14]\n"
          ]
        }
      ]
    },
    {
      "cell_type": "code",
      "source": [
        "n1=np.array([1,2,3,4,5])\n",
        "print(n1)\n",
        "\n",
        "np.ndim(n1)\n",
        "n1.shape\n",
        "\n",
        "n2=np.array([[1,2],[3,4],[5,6]])\n",
        "print(n2)\n",
        "\n",
        "print(n2.ndim)"
      ],
      "metadata": {
        "colab": {
          "base_uri": "https://localhost:8080/"
        },
        "id": "ufwrambIleEB",
        "outputId": "9b604283-0803-4aea-f562-4fe6b4ca98d3"
      },
      "execution_count": 8,
      "outputs": [
        {
          "output_type": "stream",
          "name": "stdout",
          "text": [
            "[1 2 3 4 5]\n",
            "[[1 2]\n",
            " [3 4]\n",
            " [5 6]]\n",
            "2\n"
          ]
        }
      ]
    },
    {
      "cell_type": "code",
      "source": [
        "my_li1=[-1,4]\n",
        "my_li2=[3,2]\n",
        "my_li3=[2,5]\n",
        "my_li4=[0,1]\n",
        "\n",
        "my_lists=[my_li1, my_li2, my_li3, my_li4]\n",
        "\n",
        "my_array3=np.array(my_lists)\n",
        "my_array3"
      ],
      "metadata": {
        "colab": {
          "base_uri": "https://localhost:8080/"
        },
        "id": "5J88wmV2mGfI",
        "outputId": "9afd8f2d-16d5-4656-f1f1-d68612080571"
      },
      "execution_count": 9,
      "outputs": [
        {
          "output_type": "execute_result",
          "data": {
            "text/plain": [
              "array([[-1,  4],\n",
              "       [ 3,  2],\n",
              "       [ 2,  5],\n",
              "       [ 0,  1]])"
            ]
          },
          "metadata": {},
          "execution_count": 9
        }
      ]
    },
    {
      "cell_type": "code",
      "source": [],
      "metadata": {
        "id": "L-zg2B9cmuwe"
      },
      "execution_count": null,
      "outputs": []
    }
  ]
}