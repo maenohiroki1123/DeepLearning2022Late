{
  "nbformat": 4,
  "nbformat_minor": 0,
  "metadata": {
    "colab": {
      "provenance": [],
      "collapsed_sections": [],
      "authorship_tag": "ABX9TyOnr6cFXb3MJ3mxGWiY3YNa",
      "include_colab_link": true
    },
    "kernelspec": {
      "name": "python3",
      "display_name": "Python 3"
    },
    "language_info": {
      "name": "python"
    }
  },
  "cells": [
    {
      "cell_type": "markdown",
      "metadata": {
        "id": "view-in-github",
        "colab_type": "text"
      },
      "source": [
        "<a href=\"https://colab.research.google.com/github/maenohiroki1123/DeepLearning2022Late/blob/main/%E3%83%A2%E3%82%B8%E3%83%A5%E3%83%BC%E3%83%AB%E3%81%A8%E3%83%A9%E3%82%A4%E3%83%96%E3%83%A9%E3%83%AA%E3%81%AE%E4%BD%BF%E7%94%A8.ipynb\" target=\"_parent\"><img src=\"https://colab.research.google.com/assets/colab-badge.svg\" alt=\"Open In Colab\"/></a>"
      ]
    },
    {
      "cell_type": "markdown",
      "source": [
        "# モジュールを使う\n",
        "## import文でモジュールを読み込んで使う\n",
        "例）math"
      ],
      "metadata": {
        "id": "A5oGIJTg9KWN"
      }
    },
    {
      "cell_type": "code",
      "execution_count": 1,
      "metadata": {
        "colab": {
          "base_uri": "https://localhost:8080/"
        },
        "id": "Eny9aUhw8z7E",
        "outputId": "38e5e91b-f8eb-41cc-c48f-139c5a942cc9"
      },
      "outputs": [
        {
          "output_type": "stream",
          "name": "stdout",
          "text": [
            "3.141592653589793\n",
            "25.0\n",
            "3.0\n"
          ]
        }
      ],
      "source": [
        "# mathモジュールを読み込む\n",
        "import math \n",
        "print(math.pi)\n",
        "print(math.pow(5,2))\n",
        "print(math.sqrt(9))"
      ]
    },
    {
      "cell_type": "markdown",
      "source": [
        "# Numpy--数値計算用の便利なライブラリ\n"
      ],
      "metadata": {
        "id": "LI75M44Z_b8I"
      }
    },
    {
      "cell_type": "code",
      "source": [
        "# numpyをimport\n",
        "import numpy as np\n"
      ],
      "metadata": {
        "id": "Y52CSZl49XLc"
      },
      "execution_count": 2,
      "outputs": []
    },
    {
      "cell_type": "markdown",
      "source": [
        "### numpy配列(ndarray)を作る"
      ],
      "metadata": {
        "id": "ls-ZRmnKohAy"
      }
    },
    {
      "cell_type": "code",
      "source": [
        "# リストを引き渡してndarrayを作る\n",
        "a=np.array([7,5,3,1,4,3])\n",
        "print(a)"
      ],
      "metadata": {
        "id": "7pzUKzMp_g6L",
        "colab": {
          "base_uri": "https://localhost:8080/"
        },
        "outputId": "bf3f48c1-9328-4157-f489-9d6e261fe897"
      },
      "execution_count": 3,
      "outputs": [
        {
          "output_type": "stream",
          "name": "stdout",
          "text": [
            "[7 5 3 1 4 3]\n"
          ]
        }
      ]
    },
    {
      "cell_type": "markdown",
      "source": [
        "### Numpyで配列の操作をしてみる\n",
        "## 配列を構成しなおす"
      ],
      "metadata": {
        "id": "m5Mpfmz5qImR"
      }
    },
    {
      "cell_type": "code",
      "source": [
        "# 現在、aは一行一次元配列\n",
        "print(a)\n",
        "# aを3行2列の2次元配列に構成しなおす\n",
        "b=a.reshape([3,2])# 新しい配列を引数で指定する\n",
        "print(b)"
      ],
      "metadata": {
        "colab": {
          "base_uri": "https://localhost:8080/"
        },
        "id": "Whpojg5Qpc0e",
        "outputId": "7b656c78-37ec-4192-996d-12f54d92b817"
      },
      "execution_count": 4,
      "outputs": [
        {
          "output_type": "stream",
          "name": "stdout",
          "text": [
            "[7 5 3 1 4 3]\n",
            "[[7 5]\n",
            " [3 1]\n",
            " [4 3]]\n"
          ]
        }
      ]
    },
    {
      "cell_type": "markdown",
      "source": [
        "### Numpy配列の中身を初期化して作る\n"
      ],
      "metadata": {
        "id": "N0JQ9c9rsQX4"
      }
    },
    {
      "cell_type": "code",
      "source": [
        "# 3行4列のが入った2次元配列を作る\n",
        "c=np.zeros((3,4))\n",
        "print(c)\n",
        "# ランダムな値は入った配列を作る\n",
        "np.random.seed(0)\n",
        "r=np.random.rand(3,4)\n",
        "print(r)\n"
      ],
      "metadata": {
        "colab": {
          "base_uri": "https://localhost:8080/"
        },
        "id": "Yi9Ua2-vrE68",
        "outputId": "fc5d48f3-1c60-4886-f2ac-1a95baa6da70"
      },
      "execution_count": 5,
      "outputs": [
        {
          "output_type": "stream",
          "name": "stdout",
          "text": [
            "[[0. 0. 0. 0.]\n",
            " [0. 0. 0. 0.]\n",
            " [0. 0. 0. 0.]]\n",
            "[[0.5488135  0.71518937 0.60276338 0.54488318]\n",
            " [0.4236548  0.64589411 0.43758721 0.891773  ]\n",
            " [0.96366276 0.38344152 0.79172504 0.52889492]]\n"
          ]
        }
      ]
    },
    {
      "cell_type": "markdown",
      "source": [
        "## Numpyのスライスのやりかた\n",
        "### 基本\n",
        "スライスの指定の仕方は[start:stop:step]で指定する"
      ],
      "metadata": {
        "id": "H71OEXZ1u1XJ"
      }
    },
    {
      "cell_type": "code",
      "source": [
        "# リストのスライス\n",
        "l=list(range(10))\n",
        "print(l)\n",
        "print(l[4:8])# [4:8]でスライス\n",
        "print(l[ : :-1])#stepを-1でスライス"
      ],
      "metadata": {
        "colab": {
          "base_uri": "https://localhost:8080/"
        },
        "id": "OdZQqIbms0z1",
        "outputId": "880117d6-db05-4bda-d850-b41d6d336ec9"
      },
      "execution_count": 6,
      "outputs": [
        {
          "output_type": "stream",
          "name": "stdout",
          "text": [
            "[0, 1, 2, 3, 4, 5, 6, 7, 8, 9]\n",
            "[4, 5, 6, 7]\n",
            "[9, 8, 7, 6, 5, 4, 3, 2, 1, 0]\n"
          ]
        }
      ]
    },
    {
      "cell_type": "markdown",
      "source": [
        "### 1次元のNumpy配列(ndarray)におけるスライス"
      ],
      "metadata": {
        "id": "6S6dZz0ExvA_"
      }
    },
    {
      "cell_type": "code",
      "source": [
        "# 範囲を指定してndarrayを作る\n",
        "a=np.arange(10) # 0~9の10個の要素のndarray\n",
        "print(a)\n",
        "print(a[2:8])# stepで2こ飛ばし\n",
        "print(a[2:8:3])"
      ],
      "metadata": {
        "colab": {
          "base_uri": "https://localhost:8080/"
        },
        "id": "MQR9tlP9vUgb",
        "outputId": "c8a394fc-86ea-447a-e0a5-d4b78d76bf8c"
      },
      "execution_count": 7,
      "outputs": [
        {
          "output_type": "stream",
          "name": "stdout",
          "text": [
            "[0 1 2 3 4 5 6 7 8 9]\n",
            "[2 3 4 5 6 7]\n",
            "[2 5]\n"
          ]
        }
      ]
    },
    {
      "cell_type": "markdown",
      "source": [
        "### 1次元配列のndarrayのスライスに代入"
      ],
      "metadata": {
        "id": "nKBNYrh9zbpS"
      }
    },
    {
      "cell_type": "code",
      "source": [
        "print(a)\n",
        "a[3:6]=100\n",
        "print(a)\n",
        "a[3:6]=[100,200,300]# 指定した範囲にリストの値を代入\n",
        "print(a)\n",
        "# a[3:6]=[100,200,300,400]# 3つの範囲を4つの要素で上書きは出来ない\n",
        "a=np.arange(10)\n",
        "print(a)\n",
        "a[2:8:2]=100# step2stop8にstepで上書き\n",
        "print(a)"
      ],
      "metadata": {
        "colab": {
          "base_uri": "https://localhost:8080/"
        },
        "id": "OZmJmfEGzqFJ",
        "outputId": "53868818-4926-4b20-bb4d-a0a053e1cda5"
      },
      "execution_count": 8,
      "outputs": [
        {
          "output_type": "stream",
          "name": "stdout",
          "text": [
            "[0 1 2 3 4 5 6 7 8 9]\n",
            "[  0   1   2 100 100 100   6   7   8   9]\n",
            "[  0   1   2 100 200 300   6   7   8   9]\n",
            "[0 1 2 3 4 5 6 7 8 9]\n",
            "[  0   1 100   3 100   5 100   7   8   9]\n"
          ]
        }
      ]
    },
    {
      "cell_type": "markdown",
      "source": [
        "### 多次元配列のndarrayのスライス"
      ],
      "metadata": {
        "id": "ShgzfQai2q3p"
      }
    },
    {
      "cell_type": "code",
      "source": [
        "# 3行4列の多次元配列を作る\n",
        "a=np.arange(12).reshape((3,4))\n",
        "print(a)\n",
        "# 2行目から終わりまでの行=[1:]\n",
        "# 1列目から3列目手前までの列=[1:3]\n",
        "print(a[1:,1:3])\n",
        "b=np.arange(20).reshape(5,4)\n",
        "print(b)\n",
        "# 9,10 13,14 17,18を抜き出す\n",
        "print(b[2:,1:3])"
      ],
      "metadata": {
        "colab": {
          "base_uri": "https://localhost:8080/"
        },
        "id": "sVss0Dwzzpqh",
        "outputId": "68394637-f045-4cd3-d831-b2fe1e8fafef"
      },
      "execution_count": 9,
      "outputs": [
        {
          "output_type": "stream",
          "name": "stdout",
          "text": [
            "[[ 0  1  2  3]\n",
            " [ 4  5  6  7]\n",
            " [ 8  9 10 11]]\n",
            "[[ 5  6]\n",
            " [ 9 10]]\n",
            "[[ 0  1  2  3]\n",
            " [ 4  5  6  7]\n",
            " [ 8  9 10 11]\n",
            " [12 13 14 15]\n",
            " [16 17 18 19]]\n",
            "[[ 9 10]\n",
            " [13 14]\n",
            " [17 18]]\n"
          ]
        }
      ]
    },
    {
      "cell_type": "markdown",
      "source": [
        "### 多次元のndarrayへのスライスでの代入"
      ],
      "metadata": {
        "id": "wcUIEqDfelNz"
      }
    },
    {
      "cell_type": "code",
      "source": [
        "a=np.arange(12).reshape(3,4)\n",
        "print(a)\n",
        "print(a[1:,1:3])\n",
        "a[1:,1:3]=100\n",
        "print(a)\n",
        "a=np.arange(12).reshape(3,4)\n",
        "# 多次元の上書きにリストを使う\n",
        "a[1:,1:3]=[100,200]\n",
        "print(a)\n",
        "# 多次元の上書きに二次元のリストを使う\n",
        "a[1:,1:3]=[[100,200],[300,400]]\n",
        "print(a)"
      ],
      "metadata": {
        "id": "y5UnhrPN3Fhr",
        "colab": {
          "base_uri": "https://localhost:8080/"
        },
        "outputId": "f5a2ec38-97aa-45df-e11e-037f61f87b95"
      },
      "execution_count": 11,
      "outputs": [
        {
          "output_type": "stream",
          "name": "stdout",
          "text": [
            "[[ 0  1  2  3]\n",
            " [ 4  5  6  7]\n",
            " [ 8  9 10 11]]\n",
            "[[ 5  6]\n",
            " [ 9 10]]\n",
            "[[  0   1   2   3]\n",
            " [  4 100 100   7]\n",
            " [  8 100 100  11]]\n",
            "[[  0   1   2   3]\n",
            " [  4 100 200   7]\n",
            " [  8 100 200  11]]\n",
            "[[  0   1   2   3]\n",
            " [  4 100 200   7]\n",
            " [  8 300 400  11]]\n"
          ]
        }
      ]
    },
    {
      "cell_type": "markdown",
      "source": [
        "### 多次元のndarrayへのstepを使ったスライスでの代入"
      ],
      "metadata": {
        "id": "1lTetibzid1a"
      }
    },
    {
      "cell_type": "code",
      "source": [
        "# 要素数12 3行4列のndarrayを作ってaに代入\n",
        "a=np.arange(12).reshape(3,4)\n",
        "print(a)\n",
        "# スライスにstep使ってみる\n",
        "print(a[1:,::2])\n",
        "print(a[:2,::3])\n",
        "a[1:,::2]=100# 4,6,8,10だったところを100で上書き\n",
        "print(a)\n",
        "# 4,6,8,10だったところをリストで上書き\n",
        "a[1:,::2]=[100,200]\n",
        "print(a)\n",
        "# 4,6,8,10だったところを多次元リストで上書き\n",
        "a[1:,::2]=[[100,200],[300,400]]\n",
        "print(a)"
      ],
      "metadata": {
        "colab": {
          "base_uri": "https://localhost:8080/"
        },
        "id": "4rUrqMjRfDWg",
        "outputId": "9d45f5f3-9fec-4ee2-d2a0-995f98901abb"
      },
      "execution_count": 18,
      "outputs": [
        {
          "output_type": "stream",
          "name": "stdout",
          "text": [
            "[[ 0  1  2  3]\n",
            " [ 4  5  6  7]\n",
            " [ 8  9 10 11]]\n",
            "[[ 4  6]\n",
            " [ 8 10]]\n",
            "[[0 3]\n",
            " [4 7]]\n",
            "[[  0   1   2   3]\n",
            " [100   5 100   7]\n",
            " [100   9 100  11]]\n",
            "[[  0   1   2   3]\n",
            " [100   5 200   7]\n",
            " [100   9 200  11]]\n",
            "[[  0   1   2   3]\n",
            " [100   5 200   7]\n",
            " [300   9 400  11]]\n"
          ]
        }
      ]
    },
    {
      "cell_type": "code",
      "source": [],
      "metadata": {
        "id": "hfsfLMsyjtyo"
      },
      "execution_count": null,
      "outputs": []
    },
    {
      "cell_type": "code",
      "source": [],
      "metadata": {
        "id": "lC_Ef6iYnbla"
      },
      "execution_count": null,
      "outputs": []
    }
  ]
}